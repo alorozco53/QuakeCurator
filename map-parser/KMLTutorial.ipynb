{
 "cells": [
  {
   "cell_type": "markdown",
   "metadata": {},
   "source": [
    "# Analizando archivos `.kml` de Google Maps"
   ]
  },
  {
   "cell_type": "markdown",
   "metadata": {},
   "source": [
    "Este _Jupyter notebook_ se realizó con el fin de dar un tutorial al procesamiento de los datos recabados\n",
    "en el sitio web https://infogram.com/verificado19s-1gxop4g94ejypwy, el cual contiene un mapa de la Ciudad\n",
    "de México con datos **verificados** sobre edificios, centros de acopio y necesidades surgidas a partir\n",
    "del terremoto del 19/09/2017.\n",
    "\n",
    "Los datos pueden ser descargados en un archivo de extensión `.kml`, el cual no es más que un `.xml`."
   ]
  },
  {
   "cell_type": "markdown",
   "metadata": {},
   "source": [
    "Para analizar la sintaxis del documento, utilizo el paquete _BeautifulSoup_, que\n",
    "a su vez hace uso de _lxml_. Las documentaciones de ambos están en:\n",
    "- https://www.crummy.com/software/BeautifulSoup/bs4/doc/\n",
    "- http://lxml.de/parsing.html"
   ]
  },
  {
   "cell_type": "code",
   "execution_count": 188,
   "metadata": {
    "collapsed": true
   },
   "outputs": [],
   "source": [
    "import codecs\n",
    "import re\n",
    "\n",
    "from bs4 import BeautifulSoup as BS\n",
    "from pprint import pprint\n",
    "from utils.utils import parse_extendeddata"
   ]
  },
  {
   "cell_type": "code",
   "execution_count": 5,
   "metadata": {
    "collapsed": true
   },
   "outputs": [],
   "source": [
    "# Import data\n",
    "examplefile = 'examples/edificios.kml'\n",
    "data = None\n",
    "with codecs.open(examplefile, 'r') as f:\n",
    "    data = f.read().strip()\n",
    "soup = BS(data, 'lxml')"
   ]
  },
  {
   "cell_type": "markdown",
   "metadata": {},
   "source": [
    "Se identifican **4 categorías** de objetos.\n",
    "Los datos están organizados en un árbol con la siguiente estructura (curada):\n",
    "\n",
    "```\n",
    "Daños y derrumbes\n",
    "  +-- <tipo_daño_1>\n",
    "  +-- <description> (str)\n",
    "  +-- <ubicación>\n",
    "  +----- <lat>\n",
    "  +----- <long>\n",
    "  +-- <data_frame> (dict-like)\n",
    "  +----- <k1>\n",
    "  +------- v1\n",
    "  +----- <k2>\n",
    "  +------- v2\n",
    "        .\n",
    "        .\n",
    "        .\n",
    "  +-- <tipo_daño_2>\n",
    "        .\n",
    "        .\n",
    "        .\n",
    "Centros de Acopio\n",
    "  +-- <nombre_centro_1>\n",
    "  +-- <description> (str)\n",
    "  +-- <ubicación>\n",
    "  +----- <lat>\n",
    "  +----- <long>\n",
    "  +-- <data_frame> (dict-like)\n",
    "  +----- <k1>\n",
    "  +------- v1\n",
    "  +----- <k2>\n",
    "  +------- v2\n",
    "        .\n",
    "        .\n",
    "        .\n",
    "  +-- <nombre_de_centro_2>\n",
    "        .\n",
    "        .\n",
    "        .\n",
    "Albergues Oficiales\n",
    "  +-- <nombre_albergue_1>\n",
    "  +-- <description> (str)\n",
    "  +-- <ubicación>\n",
    "  +----- <lat>\n",
    "  +----- <long>\n",
    "  +-- <data_frame> (dict-like)\n",
    "  +----- <k1>\n",
    "  +------- v1\n",
    "  +----- <k2>\n",
    "  +------- v2\n",
    "        .\n",
    "        .\n",
    "        .\n",
    "  +-- <nombre_albergue_2>\n",
    "        .\n",
    "        .\n",
    "        .\n",
    "datos.csv\n",
    "  +-- <dato_1>\n",
    "  +-- <description> (str)\n",
    "  +-- <ubicación>\n",
    "  +----- <lat>\n",
    "  +----- <long>\n",
    "  +-- <data_frame> (dict-like)\n",
    "  +----- <k1>\n",
    "  +------- v1\n",
    "  +----- <k2>\n",
    "  +------- v2\n",
    "        .\n",
    "        .\n",
    "        .\n",
    "  +-- <dato_2>\n",
    "        .\n",
    "        .\n",
    "        .\n",
    "```\n",
    "Al parecer la última jerarquía `datos.csv` se refiere a sucesos que no pudieron ser acomodados en alguna de las tres jerarquías anteriores."
   ]
  },
  {
   "cell_type": "code",
   "execution_count": 196,
   "metadata": {
    "collapsed": true
   },
   "outputs": [],
   "source": [
    "# Useful data are subtrees under the tag 'folder'\n",
    "map_info = soup.find_all('folder')\n",
    "\n",
    "# Keep track of each element in the list separately\n",
    "danyos = None\n",
    "acopios = None\n",
    "albergues = None\n",
    "dcsv = None\n",
    "for info in map_info:\n",
    "    info_name = info.find('name').text\n",
    "    if info_name == 'Daños y derrumbes':\n",
    "        danyos = info\n",
    "    elif info_name == 'Centros de Acopio':\n",
    "        acopios = info\n",
    "    elif info_name == 'Albergues Oficiales':\n",
    "        albergues = info\n",
    "    elif info_name == 'datos.csv':\n",
    "        dcsv = info"
   ]
  },
  {
   "cell_type": "markdown",
   "metadata": {},
   "source": [
    "En cada jerarquía, hay una lista de objetos con una descripción asociada. Para ilustrar esto,\n",
    "el siguiente _snippet_ imprimirá los _primeros_ detalles encontrados bajo la categoría\n",
    "`'Daños y derrumbes'`. Generalmente, el nodo `description` contiene un compilado de `data_frame`\n",
    "en forma de `str`."
   ]
  },
  {
   "cell_type": "code",
   "execution_count": 207,
   "metadata": {},
   "outputs": [
    {
     "name": "stdout",
     "output_type": "stream",
     "text": [
      "categoría: Daños y derrumbes\n",
      "--\n",
      "contiene 76 objetos\n",
      "\n",
      "Primer objeto:\n",
      "\n",
      "  --\n",
      "  tipo de daño: Daño Mayor\n",
      "  --\n",
      "  descripción: entrecalles: Sur 20 y sur 16calle: Oriente 229numero_exterior: 379atrapados: lesionados: desaparecidos: fallecidos: rescatados: link_google_maps: https://goo.gl/maps/r9Qh6fcV7yF2lon: -99.0845049000lat: 19.3943899000entidad: Integrara iztacalcotipo_reporte: ]]>\n",
      "  --\n",
      "  data_frame:\n",
      "  { 'atrapados': '',\n",
      "  'calle': 'Oriente 229',\n",
      "  'colonia': 'Agrícola Oriental',\n",
      "  'desaparecidos': '',\n",
      "  'entidad': 'Integrara iztacalco',\n",
      "  'entrecalles': 'Sur 20 y sur 16',\n",
      "  'fallecidos': '',\n",
      "  'lat': '19.3943899000',\n",
      "  'lesionados': '',\n",
      "  'link_google_maps': 'https://goo.gl/maps/r9Qh6fcV7yF2',\n",
      "  'lon': '-99.0845049000',\n",
      "  'lugar': 'residencial',\n",
      "  'numero_exterior': '379',\n",
      "  'rescatados': '',\n",
      "  'tipo_reporte': ''}\n"
     ]
    }
   ],
   "source": [
    "# Sample exploration of the 'Daños y derrumbes' subtree structure\n",
    "print('categoría:', danyos.find('name').text, end='\\n--\\n')\n",
    "danyos_list = danyos.find_all('placemark')\n",
    "print('contiene', len(danyos_list), 'objetos', end='\\n\\n')\n",
    "\n",
    "fst_danyo = danyos_list[0]\n",
    "print('Primer objeto:', end='\\n\\n  --\\n  ')\n",
    "print('tipo de daño:', fst_danyo.find('name').text, end='\\n  --\\n  ')\n",
    "print('descripción:', fst_danyo.description.text, end='\\n  --\\n  ')\n",
    "print('data_frame:', end='\\n  ')\n",
    "data_frame = parse_extendeddata(fst_danyo.extendeddata)\n",
    "pprint(data_frame, indent=2)"
   ]
  },
  {
   "cell_type": "markdown",
   "metadata": {},
   "source": [
    "La función `parse_extendeddata` se encuentra definida en [`utils.py`](utils/utils.py).\n",
    "\n",
    "## En resumen,\n",
    "\n",
    "Cabe destacar que\n",
    "- para obtener una lista de objetos por cada categoría hay que hacer uso del método \n",
    "`.findall('placemark')`;\n",
    "- una vez tenida dicha lista, para cada uno de sus elementos hay un diccionario que puede\n",
    "  ser obtenido pasándole a la función `parse_extendeddata` un nodo `soup` delimitado por\n",
    "  `extendeddata`."
   ]
  },
  {
   "cell_type": "markdown",
   "metadata": {},
   "source": [
    "Por último, cabe destacar que la ubicación exacta de un lugar (latitud y longitud) no siempre\n",
    "se encuentra en un data frame. A continuación describo algunas maneras de encontrarla:"
   ]
  },
  {
   "cell_type": "code",
   "execution_count": 226,
   "metadata": {},
   "outputs": [
    {
     "name": "stdout",
     "output_type": "stream",
     "text": [
      "19.3943899000 -99.0845049000\n",
      "19.3943899 -99.0845049\n",
      "19.4184045 -99.1610117219\n"
     ]
    }
   ],
   "source": [
    "# Ways to obtain latitude and logitude\n",
    "lat, long = data_frame['lat'], data_frame['lon']\n",
    "print(lat, long)\n",
    "\n",
    "long, lat = fst_danyo.point.coordinates.text.strip().split(',')[:-1]\n",
    "print(lat, long)\n",
    "\n",
    "datum = dcsv.find_all('placemark')[1]\n",
    "lat, long = datum.address.text.strip().split()\n",
    "print(lat, long)"
   ]
  }
 ],
 "metadata": {
  "kernelspec": {
   "display_name": "Python 3",
   "language": "python",
   "name": "python3"
  },
  "language_info": {
   "codemirror_mode": {
    "name": "ipython",
    "version": 3
   },
   "file_extension": ".py",
   "mimetype": "text/x-python",
   "name": "python",
   "nbconvert_exporter": "python",
   "pygments_lexer": "ipython3",
   "version": "3.6.1"
  }
 },
 "nbformat": 4,
 "nbformat_minor": 2
}
